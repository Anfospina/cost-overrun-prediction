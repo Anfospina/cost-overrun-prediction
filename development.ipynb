{
 "cells": [
  {
   "cell_type": "code",
   "execution_count": null,
   "metadata": {},
   "outputs": [],
   "source": [
    "import pandas as pd\n",
    "import seaborn as sns\n",
    "import matplotlib.pyplot as plt"
   ]
  },
  {
   "cell_type": "code",
   "execution_count": null,
   "metadata": {},
   "outputs": [],
   "source": [
    "from _InternalFunctions.calcular_puntuacion_por_fase import calcular_puntuacion_por_fase\n",
    "from _InternalFunctions.clean_outliers import clean_outliers\n",
    "from _InternalFunctions.correlacion_numericas_target import correlacion_numericas_target\n",
    "from _InternalFunctions.create_new_columns import create_new_columns\n",
    "from _InternalFunctions.delete_columns import delete_columns\n",
    "from _InternalFunctions.delete_records import delete_records\n",
    "from _InternalFunctions.format_date import format_date\n",
    "from _InternalFunctions.format_numeric import format_numeric\n",
    "from _InternalFunctions.graficar_correlaciones import graficar_correlaciones\n",
    "from _InternalFunctions.load_data import load_data\n",
    "from _InternalFunctions.plot_boxplot import plot_boxplot\n",
    "from _InternalFunctions.plot_histogram_subplots import plot_histogram_subplots\n",
    "from _InternalFunctions.plot_sobrecosto_distribution import plot_sobrecosto_distribution\n",
    "from _InternalFunctions.realizar_anova_con_graficos import realizar_anova_con_graficos\n",
    "from _InternalFunctions.rename_columns import rename_columns"
   ]
  },
  {
   "cell_type": "markdown",
   "metadata": {},
   "source": [
    "#### Clean Process"
   ]
  },
  {
   "cell_type": "code",
   "execution_count": null,
   "metadata": {},
   "outputs": [],
   "source": [
    "project=load_data('Input_output/Data_input/Capital_Project_Schedules_and_Budgets.csv')"
   ]
  },
  {
   "cell_type": "code",
   "execution_count": null,
   "metadata": {},
   "outputs": [],
   "source": [
    "project.info()"
   ]
  },
  {
   "cell_type": "code",
   "execution_count": null,
   "metadata": {},
   "outputs": [],
   "source": [
    "# Renombrar columnas\n",
    "rename_dict={\n",
    "    'Project Geographic District ':'Distrito Geografico',\n",
    "    'Project Building Identifier':'ID Edificio',\n",
    "    'Project School Name':'Nombre Escuela',\n",
    "    'Project Type ':'Tipo de Proyecto',\n",
    "    'Project Description':'Descripción del Proyecto',\n",
    "    'Project Phase Name':'Fase del Proyecto',\n",
    "    'Project Status Name':'Estado del Proyecto',\n",
    "    'Project Phase Actual Start Date':'Fecha de Inicio',\n",
    "    'Project Phase Planned End Date':'Fecha de Fin Proyectada',\n",
    "    'Project Phase Actual End Date':'Fecha de Fin Real',\n",
    "    'Project Budget Amount':'Presupuesto del Proyecto',\n",
    "    'Final Estimate of Actual Costs Through End of Phase Amount':'Presupuesto Final Estimado',\n",
    "    'Total Phase Actual Spending Amount':'Cantidad Real Gastada',\n",
    "    'DSF Number(s)':'Identificador DSF'\n",
    "}\n",
    "project=rename_columns(project, rename_dict)"
   ]
  },
  {
   "cell_type": "code",
   "execution_count": null,
   "metadata": {},
   "outputs": [],
   "source": [
    "# Eliminar registros con valores incoherentes\n",
    "filtro1=project['Presupuesto del Proyecto'].isin(['DOER', '0', 'DIIR', 'DOES', 'IEH', 'FTK', 'EMER', 'DIIT', 'DOEL', 'TPL', 'DOEP'])\n",
    "filtro2=project['Estado del Proyecto'].isin(['PNS'])\n",
    "\n",
    "project=delete_records(project, filtro1)\n",
    "project=delete_records(project, filtro2)\n"
   ]
  },
  {
   "cell_type": "code",
   "execution_count": null,
   "metadata": {},
   "outputs": [],
   "source": [
    "# Cambiar formato de variables\n",
    "project=format_date(project, 'Fecha de Inicio')\n",
    "project=format_date(project, 'Fecha de Fin Proyectada')\n",
    "project=format_date(project, 'Fecha de Fin Real')\n",
    "project=format_numeric(project, 'Presupuesto del Proyecto')"
   ]
  },
  {
   "cell_type": "code",
   "execution_count": null,
   "metadata": {},
   "outputs": [],
   "source": [
    "# Eliminar columnas innecesarias\n",
    "project=delete_columns(project, columns=['Identificador DSF', 'ID Edificio'])"
   ]
  },
  {
   "cell_type": "code",
   "execution_count": null,
   "metadata": {},
   "outputs": [],
   "source": [
    "# Creación de nuevas columnas a partir de las existentes\n",
    "project=create_new_columns(project,'Duración Proyectada',\n",
    "                            (project['Fecha de Fin Proyectada']-project['Fecha de Inicio']).dt.days)\n",
    "\n",
    "project=create_new_columns(project,'Duración Real',\n",
    "                            (project['Fecha de Fin Real']-project['Fecha de Inicio']).dt.days)\n",
    "\n",
    "project=create_new_columns(project,'Retraso',\n",
    "                            (project['Fecha de Fin Real']-project['Fecha de Fin Proyectada']).dt.days)\n",
    "\n",
    "project=create_new_columns(project,'Desviación Presupuestaria',\n",
    "                           round(((project['Cantidad Real Gastada']-project['Presupuesto del Proyecto'])/project['Presupuesto del Proyecto'])*100,2))\n"
   ]
  },
  {
   "cell_type": "code",
   "execution_count": null,
   "metadata": {},
   "outputs": [],
   "source": [
    "# Eliminar columnas innecesarias\n",
    "project=delete_columns(project, columns=['Fecha de Fin Real', 'Fecha de Fin Proyectada', 'Fecha de Inicio'])"
   ]
  },
  {
   "cell_type": "code",
   "execution_count": null,
   "metadata": {},
   "outputs": [],
   "source": [
    "# Eliminar proyectos con duración real cero o negativa y con cantidad real gastada cero o negativa\n",
    "filtro3=project['Duración Real']<=0\n",
    "filtro4=project['Cantidad Real Gastada']<=0\n",
    "project=delete_records(project, filtro3)\n",
    "project=delete_records(project, filtro4)"
   ]
  },
  {
   "cell_type": "code",
   "execution_count": null,
   "metadata": {},
   "outputs": [],
   "source": [
    "# dividir la base de datos en dos partes: proyectos completos y en progreso\n",
    "# Proyectos completos\n",
    "project_complete=project[project['Estado del Proyecto']=='Complete']\n",
    "project_complete.dropna(inplace=True)\n",
    "# Proyectos en progreso\n",
    "project_inprogress=project[project['Estado del Proyecto']=='In-Progress']\n",
    "project_inprogress=delete_columns(project_inprogress, columns=['Duración Real','Retraso'])\n",
    "project_inprogress.dropna(inplace=True)"
   ]
  },
  {
   "cell_type": "code",
   "execution_count": null,
   "metadata": {},
   "outputs": [],
   "source": [
    "# Guardar los DataFrames\n",
    "project_complete.to_csv('Input_output/Data_output/Capital_Project_Schedules_and_Budgets_clean_complete.csv', index=False)\n",
    "project_inprogress.to_csv('Input_output/Data_output/Capital_Project_Schedules_and_Budgets_clean_inprogress.csv', index=False)"
   ]
  },
  {
   "cell_type": "markdown",
   "metadata": {},
   "source": [
    "#### Working with DataFrame_Complete"
   ]
  },
  {
   "cell_type": "code",
   "execution_count": null,
   "metadata": {},
   "outputs": [],
   "source": [
    "project_complete=load_data('Input_output/Data_output/Capital_Project_Schedules_and_Budgets_clean_complete.csv')"
   ]
  },
  {
   "cell_type": "code",
   "execution_count": null,
   "metadata": {},
   "outputs": [],
   "source": [
    "plot_sobrecosto_distribution(project_complete, 'Desviación Presupuestaria')"
   ]
  },
  {
   "cell_type": "code",
   "execution_count": null,
   "metadata": {},
   "outputs": [],
   "source": [
    "project_complete.describe()"
   ]
  },
  {
   "cell_type": "code",
   "execution_count": null,
   "metadata": {},
   "outputs": [],
   "source": [
    "# histograma de presupuestos y gastos\n",
    "plot_histogram_subplots(project_complete,\n",
    "                       ['Presupuesto del Proyecto','Presupuesto Final Estimado','Cantidad Real Gastada'], \n",
    "                       title='Distribución de Presupuestos y Gastos', \n",
    "                       bins=30, \n",
    "                       log_scale=True)"
   ]
  },
  {
   "cell_type": "code",
   "execution_count": null,
   "metadata": {},
   "outputs": [],
   "source": [
    "# boxplot de duraciones y retrasos\n",
    "plot_boxplot(project_complete, \n",
    "             ['Duración Proyectada', 'Duración Real', 'Retraso'], \n",
    "             title='Distribución de Duraciones y Retrasos')"
   ]
  },
  {
   "cell_type": "code",
   "execution_count": null,
   "metadata": {},
   "outputs": [],
   "source": [
    "project_clean_complete=clean_outliers(project_complete, columns=['Presupuesto del Proyecto', 'Presupuesto Final Estimado', 'Cantidad Real Gastada', \n",
    "                                                                'Duración Proyectada', 'Duración Real', 'Retraso','Desviación Presupuestaria'])\n",
    "project_clean_complete=project_clean_complete[~project_clean_complete['Presupuesto Final Estimado'].isin([28,186,176,179,164,154])]\n",
    "project_clean_complete=project_clean_complete[~project_clean_complete['Duración Real'].isin(range(1,30))]\n",
    "project_clean_complete=project_clean_complete[~project_clean_complete['Cantidad Real Gastada'].isin([6,15,59,74])]\n",
    "project_clean_complete=delete_records(project_clean_complete, project_clean_complete['Fase del Proyecto']=='Construction')"
   ]
  },
  {
   "cell_type": "code",
   "execution_count": null,
   "metadata": {},
   "outputs": [],
   "source": [
    "project_clean_complete.describe()"
   ]
  },
  {
   "cell_type": "code",
   "execution_count": null,
   "metadata": {},
   "outputs": [],
   "source": [
    "plot_histogram_subplots(project_clean_complete,\n",
    "                       ['Presupuesto del Proyecto','Presupuesto Final Estimado','Cantidad Real Gastada'], \n",
    "                       title='Distribución de Presupuestos y Gastos', \n",
    "                       bins=30, \n",
    "                       log_scale=True)"
   ]
  },
  {
   "cell_type": "code",
   "execution_count": null,
   "metadata": {},
   "outputs": [],
   "source": [
    "# boxplot de duraciones y retrasos\n",
    "plot_boxplot(project_clean_complete, \n",
    "             ['Duración Proyectada', 'Duración Real', 'Retraso'], \n",
    "             title='Distribución de Duraciones y Retrasos')"
   ]
  },
  {
   "cell_type": "code",
   "execution_count": null,
   "metadata": {},
   "outputs": [],
   "source": [
    "sns.histplot(data=project_clean_complete, x='Desviación Presupuestaria', kde=True, bins=30)\n",
    "plt.title('Distribución de Desviación Presupuestaria')\n",
    "plt.xlabel('Porcentaje de Desviación')\n",
    "plt.ylabel('Frecuencia')\n",
    "plt.gca().spines[\"top\"].set_visible(False)  # Ocultar borde superior\n",
    "plt.gca().spines[\"right\"].set_visible(False)  # Ocultar borde derecho\n",
    "plt.show()"
   ]
  },
  {
   "cell_type": "code",
   "execution_count": null,
   "metadata": {},
   "outputs": [],
   "source": [
    "palette = {\n",
    "    'Scope': 'blue',\n",
    "    'Design': 'green',\n",
    "    'CM,F&E': 'orange'\n",
    "}\n",
    "sns.catplot(x='Fase del Proyecto', y='Sobrecosto', data=project_clean_complete, kind='box', palette=palette, height=6, aspect=2)\n",
    "plt.title('Desviación Presupuestaria por Fase del Proyecto')\n",
    "plt.xlabel('Fase del Proyecto')\n",
    "plt.ylabel('Sobrecosto (%)')\n",
    "plt.show()"
   ]
  },
  {
   "cell_type": "code",
   "execution_count": null,
   "metadata": {},
   "outputs": [],
   "source": [
    "#organizar columnas\n",
    "column_order=['Distrito Geografico', 'Nombre Escuela', 'Tipo de Proyecto',\n",
    "       'Descripción del Proyecto', 'Fase del Proyecto', 'Estado del Proyecto',\n",
    "       'Presupuesto del Proyecto', 'Presupuesto Final Estimado',\n",
    "       'Desviación Presupuestaria','Duración Proyectada', 'Duración Real',\n",
    "       'Retraso', 'Cantidad Real Gastada']\n",
    "project_clean_complete=project_clean_complete[column_order]\n",
    "\n",
    "filtered_data = project_clean_complete.select_dtypes('number')\n",
    "\n",
    "# Calcular la matriz de correlación\n",
    "correlation_matrix = filtered_data.corr()\n",
    "\n",
    "# Crear el heatmap\n",
    "plt.figure(figsize=(10, 8))\n",
    "sns.heatmap(correlation_matrix, annot=True, cmap=\"coolwarm\", fmt=\".2f\")\n",
    "plt.title(\"Heatmap de Correlación\")\n",
    "plt.show()"
   ]
  },
  {
   "cell_type": "code",
   "execution_count": null,
   "metadata": {},
   "outputs": [],
   "source": [
    "#crear la columna categoria proyecto a partir de la descripcion del proyecto\n",
    "\n",
    "#definir las categorias y palabras clave\n",
    "categoria_palabras = {\n",
    "    \"Mejoras exteriores\": ['exterior', 'masonry', 'roofs', 'parapets', 'windows', 'replacement'],\n",
    "    \"Sistemas de seguridad\": ['fire', 'alarm', 'camera', 'system', 'ipdvs', 'installations'],\n",
    "    \"Control climático\": ['climate', 'ventilation', 'boiler', 'freezers', 'electrical', 'low', 'voltage'],\n",
    "    \"Infraestructura escolar\": ['auditorium', 'playground', 'redevelopment', 'walk', 'accessibility'],\n",
    "    \"Proyectos ambientales\": ['flood', 'elimination', 'planyc'],\n",
    "    \"Transformaciones internas\": ['conversion', 'upgrade', 'installation', 'systems'],\n",
    "    \"COVID / Salud\": ['covid', 'ida'],\n",
    "    \"Transporte / movilidad\": ['path', 'travel'],\n",
    "    \"Programas educativos\": ['program', 'full', 'reso']\n",
    "}\n",
    "\n",
    "def asignar_categoria(descripcion):\n",
    "    descripcion_lower = str(descripcion).lower()\n",
    "    for categoria, palabras in categoria_palabras.items():\n",
    "        if any(palabra in descripcion_lower for palabra in palabras):\n",
    "            return categoria\n",
    "    return 'Otro'\n",
    "\n",
    "project_clean_complete['Categoria Proyecto'] = project_clean_complete['Descripción del Proyecto'].apply(asignar_categoria)\n",
    "\n",
    "# eliminar columna descripcion del proyecto\n",
    "project_clean_complete=delete_columns(project_clean_complete, columns=['Descripción del Proyecto'])"
   ]
  },
  {
   "cell_type": "code",
   "execution_count": null,
   "metadata": {},
   "outputs": [],
   "source": [
    "#Renombrar los tipos de proyecto para que sean más descriptivos\n",
    "renombrar_tipo_proyecto = {\n",
    "    \"SCA CIP\": \"Proyecto de Mejoramiento General (CIP)\",\n",
    "    \"SCA CIP RESOA\": \"Mejoras Asociadas a Programas Académicos (RESOA)\",\n",
    "    \"3K\": \"Adecuaciones para Educación Inicial 3K\",\n",
    "    \"SCA Lease Site Improvement\": \"Mejoras en Sedes Arrendadas\",\n",
    "    \"SCA Capacity\": \"Expansión de Capacidad Escolar\",\n",
    "    \"PRE-K\": \"Adecuaciones para Educación Preescolar (Pre-K)\",\n",
    "    \"SCA Emergency Lighting\": \"Instalación de Iluminación de Emergencia\"\n",
    "}\n",
    "\n",
    "# Crear nueva columna con nombres más descriptivos\n",
    "project_clean_complete[\"Tipo Proyecto\"] = project_clean_complete[\"Tipo de Proyecto\"].map(renombrar_tipo_proyecto).fillna(\"Otro\")\n",
    "# eliminar columna tipo de proyecto\n",
    "project_clean_complete=delete_columns(project_clean_complete, columns=['Tipo de Proyecto'])\n",
    "\n",
    "#organizar columnas en el orden deseado\n",
    "column_order=['Distrito Geografico', 'Nombre Escuela', 'Tipo Proyecto',\n",
    "       'Categoria Proyecto', 'Fase del Proyecto', 'Estado del Proyecto',\n",
    "       'Presupuesto del Proyecto', 'Presupuesto Final Estimado',\n",
    "       'Desviación Presupuestaria','Duración Proyectada', 'Duración Real',\n",
    "       'Retraso', 'Cantidad Real Gastada']\n",
    "project_clean_complete=project_clean_complete[column_order]"
   ]
  },
  {
   "cell_type": "code",
   "execution_count": null,
   "metadata": {},
   "outputs": [],
   "source": [
    "sns.pairplot(data=project_clean_complete, vars=['Presupuesto del Proyecto', 'Presupuesto Final Estimado', 'Cantidad Real Gastada',\n",
    "                                                'Duración Proyectada', 'Duración Real', 'Retraso','Desviación Presupuestaria'])\n",
    "plt.show()"
   ]
  },
  {
   "cell_type": "code",
   "execution_count": null,
   "metadata": {},
   "outputs": [],
   "source": [
    "project_clean_complete.to_csv('Input_output/Data_output_transform/Project_complete.csv', index=False)"
   ]
  },
  {
   "cell_type": "code",
   "execution_count": null,
   "metadata": {},
   "outputs": [],
   "source": [
    "# proyectos que gastaron más de lo presupuestado y terminaron antes de tiempo                       \n",
    "project_clean_complete[(project_clean_complete['Cantidad Real Gastada']>project_clean_complete['Presupuesto del Proyecto'])&\n",
    "                       (project_clean_complete['Retraso']<0)\n",
    "                       &(project_clean_complete['Desviación Presupuestaria']>0)]\n",
    "\n",
    "# proyectos que gastaron menos de lo presupuestado y terminaron después de tiempo\n",
    "project_clean_complete[(project_clean_complete['Cantidad Real Gastada']<project_clean_complete['Presupuesto del Proyecto'])&\n",
    "                       (project_clean_complete['Retraso']>0)\n",
    "                       &(project_clean_complete['Desviación Presupuestaria']<0)]\n",
    "\n",
    "#proyectos que gastaron más de lo presupuestado y terminaron después de tiempo\n",
    "project_clean_complete[(project_clean_complete['Cantidad Real Gastada']>project_clean_complete['Presupuesto del Proyecto'])&\n",
    "                       (project_clean_complete['Retraso']>0)\n",
    "                       &(project_clean_complete['Desviación Presupuestaria']>0)]\n",
    "\n",
    "#proyectos que gastaron menos de lo presupuestado y terminaron antes de tiempo\n",
    "project_clean_complete[(project_clean_complete['Cantidad Real Gastada']<project_clean_complete['Presupuesto del Proyecto'])&\n",
    "                        (project_clean_complete['Retraso']<0)\n",
    "                        &(project_clean_complete['Desviación Presupuestaria']<0)]"
   ]
  },
  {
   "cell_type": "code",
   "execution_count": null,
   "metadata": {},
   "outputs": [],
   "source": [
    "project_clean_complete.columns"
   ]
  },
  {
   "cell_type": "markdown",
   "metadata": {},
   "source": [
    "#### working with DataFrame_In-Progress"
   ]
  },
  {
   "cell_type": "code",
   "execution_count": null,
   "metadata": {},
   "outputs": [],
   "source": [
    "project_inprogress=load_data('Input_output/Data_output/Capital_Project_Schedules_and_Budgets_clean_inprogress.csv')"
   ]
  },
  {
   "cell_type": "code",
   "execution_count": null,
   "metadata": {},
   "outputs": [],
   "source": [
    "project_clean_progress=clean_outliers(project_inprogress, columns=['Presupuesto del Proyecto', 'Presupuesto Final Estimado', 'Cantidad Real Gastada', \n",
    "                                                                'Duración Proyectada','Desviación Presupuestaria'])\n",
    "project_clean_progress=project_clean_progress[~project_clean_progress['Duración Proyectada'].isin([34,59,89,90,91,92])]\n",
    "project_clean_progress=project_clean_progress[~project_clean_progress['Cantidad Real Gastada'].isin([36,53,112,160,169])]\n",
    "project_clean_progress=project_clean_progress[project_clean_progress['Desviación Presupuestaria']<-10]"
   ]
  },
  {
   "cell_type": "code",
   "execution_count": null,
   "metadata": {},
   "outputs": [],
   "source": [
    "project_clean_progress.describe()"
   ]
  },
  {
   "cell_type": "code",
   "execution_count": null,
   "metadata": {},
   "outputs": [],
   "source": [
    "plot_histogram_subplots(project_clean_progress,\n",
    "                       ['Presupuesto del Proyecto','Presupuesto Final Estimado','Cantidad Real Gastada'], \n",
    "                       title='Distribución de Presupuestos y Gastos', \n",
    "                       bins=30, \n",
    "                       log_scale=True)"
   ]
  },
  {
   "cell_type": "code",
   "execution_count": null,
   "metadata": {},
   "outputs": [],
   "source": [
    "filtered_data = project_clean_progress.select_dtypes('number')\n",
    "\n",
    "# Calcular la matriz de correlación\n",
    "correlation_matrix = filtered_data.corr()\n",
    "\n",
    "# Crear el heatmap\n",
    "plt.figure(figsize=(10, 8))\n",
    "sns.heatmap(correlation_matrix, annot=True, cmap=\"coolwarm\", fmt=\".2f\")\n",
    "plt.title(\"Heatmap de Correlación\")\n",
    "plt.show()"
   ]
  },
  {
   "cell_type": "code",
   "execution_count": null,
   "metadata": {},
   "outputs": [],
   "source": [
    "#crear la columna categoria proyecto a partir de la descripcion del proyecto\n",
    "\n",
    "#definir las categorias y palabras clave\n",
    "categoria_palabras = {\n",
    "    \"Mejoras exteriores\": ['exterior', 'masonry', 'roofs', 'parapets', 'windows', 'replacement'],\n",
    "    \"Sistemas de seguridad\": ['fire', 'alarm', 'camera', 'system', 'ipdvs', 'installations'],\n",
    "    \"Control climático\": ['climate', 'ventilation', 'boiler', 'freezers', 'electrical', 'low', 'voltage'],\n",
    "    \"Infraestructura escolar\": ['auditorium', 'playground', 'redevelopment', 'walk', 'accessibility'],\n",
    "    \"Proyectos ambientales\": ['flood', 'elimination', 'planyc'],\n",
    "    \"Transformaciones internas\": ['conversion', 'upgrade', 'installation', 'systems'],\n",
    "    \"COVID / Salud\": ['covid', 'ida'],\n",
    "    \"Transporte / movilidad\": ['path', 'travel'],\n",
    "    \"Programas educativos\": ['program', 'full', 'reso']\n",
    "}\n",
    "\n",
    "def asignar_categoria(descripcion):\n",
    "    descripcion_lower = str(descripcion).lower()\n",
    "    for categoria, palabras in categoria_palabras.items():\n",
    "        if any(palabra in descripcion_lower for palabra in palabras):\n",
    "            return categoria\n",
    "    return 'Otro'\n",
    "\n",
    "project_clean_progress['Categoria Proyecto'] = project_clean_progress['Descripción del Proyecto'].apply(asignar_categoria)\n",
    "\n",
    "# eliminar columna descripcion del proyecto\n",
    "project_clean_progress=delete_columns(project_clean_progress, columns=['Descripción del Proyecto'])"
   ]
  },
  {
   "cell_type": "code",
   "execution_count": null,
   "metadata": {},
   "outputs": [],
   "source": [
    "#Renombrar los tipos de proyecto para que sean más descriptivos\n",
    "renombrar_tipo_proyecto = {\n",
    "    \"SCA CIP\": \"Proyecto de Mejoramiento General (CIP)\",\n",
    "    \"SCA CIP RESOA\": \"Mejoras Asociadas a Programas Académicos (RESOA)\",\n",
    "    \"3K\": \"Adecuaciones para Educación Inicial 3K\",\n",
    "    \"SCA Lease Site Improvement\": \"Mejoras en Sedes Arrendadas\",\n",
    "    \"SCA Capacity\": \"Expansión de Capacidad Escolar\",\n",
    "    \"PRE-K\": \"Adecuaciones para Educación Preescolar (Pre-K)\",\n",
    "    \"SCA Emergency Lighting\": \"Instalación de Iluminación de Emergencia\"\n",
    "}\n",
    "\n",
    "# Crear nueva columna con nombres más descriptivos\n",
    "project_clean_progress[\"Tipo Proyecto\"] = project_clean_progress[\"Tipo de Proyecto\"].map(renombrar_tipo_proyecto).fillna(\"Otro\")\n",
    "# eliminar columna tipo de proyecto\n",
    "project_clean_progress=delete_columns(project_clean_progress, columns=['Tipo de Proyecto'])\n",
    "\n",
    "#organizar columnas en el orden deseado\n",
    "column_order=['Distrito Geografico', 'Nombre Escuela', 'Tipo Proyecto',\n",
    "       'Categoria Proyecto', 'Fase del Proyecto', 'Estado del Proyecto',\n",
    "       'Presupuesto del Proyecto', 'Presupuesto Final Estimado',\n",
    "       'Desviación Presupuestaria','Duración Proyectada',\n",
    "       'Cantidad Real Gastada']\n",
    "project_clean_progress=project_clean_progress[column_order]\n",
    "\n",
    "project_clean_progress=rename_columns(project_clean_progress, {'Cantidad Real Gastada':'Cantidad Gastada a la Fecha'})"
   ]
  },
  {
   "cell_type": "code",
   "execution_count": null,
   "metadata": {},
   "outputs": [],
   "source": [
    "project_clean_progress.to_csv('Input_output/Data_output_transform/Project_progress.csv', index=False)"
   ]
  },
  {
   "cell_type": "code",
   "execution_count": null,
   "metadata": {},
   "outputs": [],
   "source": [
    "project_clean_progress.columns"
   ]
  },
  {
   "cell_type": "markdown",
   "metadata": {},
   "source": [
    "#### Creating features and the working dataframe"
   ]
  },
  {
   "cell_type": "code",
   "execution_count": null,
   "metadata": {},
   "outputs": [],
   "source": [
    "project=load_data('Input_output/Data_output_transform/Project_complete.csv')\n",
    "project_2=load_data('Input_output/Data_output_transform/Project_progress.csv')\n",
    "prob_imp=pd.read_csv('Input_output/Data_input/Probabilidad_Impacto.csv', sep=';')"
   ]
  },
  {
   "cell_type": "code",
   "execution_count": null,
   "metadata": {},
   "outputs": [],
   "source": [
    "# Creación de dos nuevas variables: Probabilidad e Impacto\n",
    "\n",
    "# Calular la puntuación de probabilidad e impacto por fase, retraso y presupuesto\n",
    "result1 = calcular_puntuacion_por_fase(prob_imp, 'Fase', 'Media de Probabilidad', 'Impacto Medio', 'Scope')\n",
    "result2 = calcular_puntuacion_por_fase(prob_imp, 'Fase', 'Media de Probabilidad', 'Impacto Medio', 'Design')\n",
    "result3 = calcular_puntuacion_por_fase(prob_imp, 'retraso >30%', 'Media de Probabilidad', 'Impacto Medio', 'Retraso')\n",
    "result4 = calcular_puntuacion_por_fase(prob_imp, 'rango 1', 'Media de Probabilidad', 'Impacto Medio', 'Presupuesto')\n",
    "result5 = calcular_puntuacion_por_fase(prob_imp, 'rango 2', 'Media de Probabilidad', 'Impacto Medio', 'Presupuesto')\n",
    "result6 = calcular_puntuacion_por_fase(prob_imp, 'rango 3', 'Media de Probabilidad', 'Impacto Medio', 'Presupuesto')\n",
    "result7 = calcular_puntuacion_por_fase(prob_imp, 'rango 4', 'Media de Probabilidad', 'Impacto Medio', 'Presupuesto')\n",
    "\n",
    "# Filtrar los valores donde 'Fase del Proyecto' sea 'Scope' y asignar result1\n",
    "project.loc[project['Fase del Proyecto'] == 'Scope', 'ScopeP'] = result1[0]\n",
    "project.loc[project['Fase del Proyecto'] == 'Scope', 'ScopeI'] = result1[1]\n",
    "\n",
    "# Filtrar los valores donde 'Fase del Proyecto' sea 'Design' y asignar result2\n",
    "project.loc[project['Fase del Proyecto'] == 'Design', 'DesignP'] = result2[0]\n",
    "project.loc[project['Fase del Proyecto'] == 'Design', 'DesignI'] = result2[1]\n",
    "\n",
    "# Filtrar los valores donde 'Retraso' sea 'retraso >30%' y asignar result3\n",
    "project.loc[project['Retraso'] >= 0.3*project['Duración Proyectada'], 'RetrasoP'] = result3[0]\n",
    "project.loc[project['Retraso'] >= 0.3*project['Duración Proyectada'], 'RetrasoI'] = result3[1]\n",
    "\n",
    "# Filtrar los valores donde 'Fase del Proyecto' sea 'rango 1' y asignar result4\n",
    "percentil_25 = project['Presupuesto del Proyecto'].quantile(0.25)\n",
    "project.loc[project['Presupuesto del Proyecto'] <= percentil_25, 'rango1P'] = result4[0]\n",
    "project.loc[project['Presupuesto del Proyecto'] <= percentil_25, 'rango1I'] = result4[1]\n",
    "\n",
    "# Filtrar los valores donde 'Fase del Proyecto' sea 'rango 2' y asignar result5\n",
    "percentil_75 = project['Presupuesto del Proyecto'].quantile(0.75)\n",
    "project.loc[(project['Presupuesto del Proyecto'] > percentil_25) & (project['Presupuesto del Proyecto'] <= percentil_75), 'rango2P'] = result5[0]\n",
    "project.loc[(project['Presupuesto del Proyecto'] > percentil_25) & (project['Presupuesto del Proyecto'] <= percentil_75), 'rango2I'] = result5[1]\n",
    "\n",
    "# Filtrar los valores donde 'Fase del Proyecto' sea 'rango 3' y asignar result6\n",
    "percentil_90 = project['Presupuesto del Proyecto'].quantile(0.90)\n",
    "project.loc[(project['Presupuesto del Proyecto'] > percentil_75) & (project['Presupuesto del Proyecto'] <= percentil_90), 'rango3P'] = result6[0]\n",
    "project.loc[(project['Presupuesto del Proyecto'] > percentil_75) & (project['Presupuesto del Proyecto'] <= percentil_90), 'rango3I'] = result6[1]\n",
    "\n",
    "# Filtrar los valores donde 'Fase del Proyecto' sea 'rango 4' y asignar result7\n",
    "project.loc[project['Presupuesto del Proyecto'] > percentil_90, 'rango4P'] = result7[0]\n",
    "project.loc[project['Presupuesto del Proyecto'] > percentil_90, 'rango4I'] = result7[1]\n",
    "\n",
    "#Creación de nuevas columnas a partir de las existentes\n",
    "project['Probabilidad']=project[['ScopeP','DesignP','RetrasoP','rango1P','rango2P','rango3P','rango4P']].mean(axis=1)\n",
    "project['Impacto']=project[['ScopeI','DesignI','RetrasoI','rango1I','rango2I','rango3I','rango4I']].mean(axis=1)\n",
    "\n",
    "#Eliminar columnas innecesarias\n",
    "project=delete_columns(project, columns=['ScopeP','DesignP','RetrasoP','rango1P','rango2P','rango3P','rango4P',\n",
    "                                         'ScopeI','DesignI','RetrasoI','rango1I','rango2I','rango3I','rango4I'])"
   ]
  },
  {
   "cell_type": "code",
   "execution_count": null,
   "metadata": {},
   "outputs": [],
   "source": [
    "# # Creación de modelo para estimar gasto a la fecha en proyectos completados\n",
    "\n",
    "# from sklearn.ensemble import RandomForestRegressor\n",
    "# from sklearn.preprocessing import OneHotEncoder\n",
    "# from sklearn.compose import ColumnTransformer\n",
    "# from sklearn.pipeline import Pipeline\n",
    "# from sklearn.model_selection import train_test_split\n",
    "\n",
    "# df_train = project_2.copy()\n",
    "\n",
    "# # Entrenamiento del modelo con datos de proyectos en progreso\n",
    "# X = df_train[['Tipo Proyecto',\n",
    "#        'Categoria Proyecto', 'Fase del Proyecto',\n",
    "#        'Presupuesto del Proyecto', 'Presupuesto Final Estimado',\n",
    "#        'Desviación Presupuestaria', 'Duración Proyectada']]\n",
    "# y = df_train['Cantidad Gastada a la Fecha']\n",
    "\n",
    "# # División de datos para prueba/entrenamiento\n",
    "# X_train, X_test, y_train, y_test = train_test_split(X, y, test_size=0.2, random_state=42)\n",
    "\n",
    "# # Codificación de variables categóricas\n",
    "# categorical_cols = ['Tipo Proyecto', 'Categoria Proyecto', 'Fase del Proyecto']\n",
    "# numeric_cols = ['Presupuesto del Proyecto', 'Presupuesto Final Estimado',\n",
    "#                 'Desviación Presupuestaria', 'Duración Proyectada']\n",
    "\n",
    "# preprocessor = ColumnTransformer([\n",
    "#     ('cat', OneHotEncoder(handle_unknown='ignore'), categorical_cols)\n",
    "# ], remainder='passthrough')\n",
    "\n",
    "# # Pipeline de entrenamiento\n",
    "# modelo_gasto_a_fecha = Pipeline(steps=[\n",
    "#     ('preprocessor', preprocessor),\n",
    "#     ('regressor', RandomForestRegressor(n_estimators=100, random_state=42))\n",
    "# ])"
   ]
  },
  {
   "cell_type": "code",
   "execution_count": null,
   "metadata": {},
   "outputs": [],
   "source": [
    "# from sklearn.metrics import mean_absolute_error, r2_score\n",
    "# from sklearn.model_selection import train_test_split\n",
    "\n",
    "# # entrenar modelo en datos de entrenamiento\n",
    "# modelo_gasto_a_fecha.fit(X_train, y_train)\n",
    "\n",
    "# # Predecir en test\n",
    "# y_pred = modelo_gasto_a_fecha.predict(X_test)\n",
    "\n",
    "# # Calcular métricas\n",
    "# mae = mean_absolute_error(y_test, y_pred)\n",
    "# r2 = r2_score(y_test, y_pred)\n",
    "\n",
    "# print(f\"MAE:  ${mae:,.0f}\")\n",
    "# print(f\"R²:   {r2:.2f}\")"
   ]
  },
  {
   "cell_type": "code",
   "execution_count": null,
   "metadata": {},
   "outputs": [],
   "source": [
    "# plt.scatter(y_test, y_pred, alpha=0.7)\n",
    "# plt.xlabel(\"Gasto simulado real\")\n",
    "# plt.ylabel(\"Gasto simulado predicho\")\n",
    "# plt.title(\"Comparación real vs predicho\")\n",
    "# plt.plot([y.min(), y.max()], [y.min(), y.max()], 'r--')\n",
    "# plt.grid(True)\n",
    "# plt.show()"
   ]
  },
  {
   "cell_type": "code",
   "execution_count": null,
   "metadata": {},
   "outputs": [],
   "source": [
    "# #Aplicar el modelo para generar la columna \"gasto_a_la_fecha_estimado\" en proyectos completados\n",
    "# X_pred = project[['Tipo Proyecto',\n",
    "#        'Categoria Proyecto', 'Fase del Proyecto',\n",
    "#        'Presupuesto del Proyecto', 'Presupuesto Final Estimado',\n",
    "#        'Desviación Presupuestaria', 'Duración Proyectada']]\n",
    "# project['Gasto a la Fecha Estimado'] = modelo_gasto_a_fecha.predict(X_pred)\n",
    "\n",
    "# #organizar columnas en el orden deseado\n",
    "# column_order=['Tipo Proyecto',\n",
    "#        'Categoria Proyecto', 'Fase del Proyecto',\n",
    "#        'Presupuesto del Proyecto', 'Presupuesto Final Estimado',\n",
    "#        'Desviación Presupuestaria','Duración Proyectada',\n",
    "#        'Gasto a la Fecha Estimado','Probabilidad','Impacto',\n",
    "#        'Cantidad Real Gastada']\n",
    "# project=project[column_order]"
   ]
  },
  {
   "cell_type": "code",
   "execution_count": null,
   "metadata": {},
   "outputs": [],
   "source": [
    "# from sklearn.compose import ColumnTransformer\n",
    "# from sklearn.preprocessing import OneHotEncoder, StandardScaler\n",
    "\n",
    "# steps=[('preprocessor', ColumnTransformer(\n",
    "#   transformers=[\n",
    "#       ('num', StandardScaler(), ['impacto','Presupuesto del Proyecto','probabilidad',\n",
    "#                        'Duración Proyectada','Presupuesto Final Estimado','Cantidad Real Gastada']),\n",
    "#       ('cat', OneHotEncoder(), ['Fase del Proyecto','Estado del Proyecto','Tipo de Proyecto'])\n",
    "#   ]  \n",
    "# ))\n",
    "# ]\n"
   ]
  },
  {
   "cell_type": "code",
   "execution_count": null,
   "metadata": {},
   "outputs": [],
   "source": [
    "# output_dir = os.path.join(\"Input_output\", \"Data\")\n",
    "# if not os.path.exists(output_dir):\n",
    "#     os.makedirs(output_dir)\n",
    "\n",
    "# project.to_csv(os.path.join(output_dir, \"DataFrame.csv\"), index=False)"
   ]
  },
  {
   "cell_type": "code",
   "execution_count": null,
   "metadata": {},
   "outputs": [],
   "source": [
    "data=load_data('Input_output/Data/DataFrame.csv')"
   ]
  },
  {
   "cell_type": "code",
   "execution_count": null,
   "metadata": {},
   "outputs": [],
   "source": [
    "filtered_data = data[['Presupuesto del Proyecto', 'Presupuesto Final Estimado','Desviación Presupuestaria',\n",
    "                 'Duración Proyectada','Probabilidad','Impacto','Gasto a la Fecha Estimado',\n",
    "                 'Cantidad Real Gastada']]\n",
    "\n",
    "# Calcular la matriz de correlación\n",
    "correlation_matrix = filtered_data.corr()\n",
    "\n",
    "# Crear el heatmap\n",
    "plt.figure(figsize=(10, 8))\n",
    "sns.heatmap(correlation_matrix, annot=True, cmap=\"coolwarm\", fmt=\".2f\")\n",
    "plt.title(\"Heatmap de Correlación\")\n",
    "plt.show()"
   ]
  },
  {
   "cell_type": "code",
   "execution_count": null,
   "metadata": {},
   "outputs": [],
   "source": [
    "sns.pairplot(data=data, vars=['Presupuesto del Proyecto', 'Presupuesto Final Estimado','Desviación Presupuestaria',\n",
    "                  'Duración Proyectada','Probabilidad','Impacto','Gasto a la Fecha Estimado',\n",
    "                  'Cantidad Real Gastada'])\n",
    "plt.show()"
   ]
  },
  {
   "cell_type": "code",
   "execution_count": null,
   "metadata": {},
   "outputs": [],
   "source": [
    "correlaciones=correlacion_numericas_target(data, variables_numericas=['Gasto a la Fecha Estimado', 'Presupuesto Final Estimado',\n",
    "                                                                      'Presupuesto del Proyecto','Probabilidad','Impacto','Duración Proyectada',\n",
    "                                                                      'Desviación Presupuestaria']\n",
    "                                                                    , target='Cantidad Real Gastada')\n",
    "graficar_correlaciones(correlaciones)"
   ]
  },
  {
   "cell_type": "code",
   "execution_count": null,
   "metadata": {},
   "outputs": [],
   "source": [
    "realizar_anova_con_graficos(data, variables_categoricas=['Tipo Proyecto','Categoria Proyecto','Fase del Proyecto'], \n",
    "                            target='Cantidad Real Gastada')"
   ]
  },
  {
   "cell_type": "markdown",
   "metadata": {},
   "source": [
    "#### Modelling\n"
   ]
  },
  {
   "cell_type": "code",
   "execution_count": null,
   "metadata": {},
   "outputs": [],
   "source": [
    "from _ModelFunctions.create_model_directory import create_model_directory\n",
    "from _ModelFunctions.create_pipeline import create_pipeline\n",
    "from _ModelFunctions.divide_project_data import divide_project_data\n",
    "from _ModelFunctions.metrics_calculate_from_file import metrics_calculate_from_file\n",
    "from _ModelFunctions.perform_grid_search_cv import perform_grid_search_cv\n",
    "from _ModelFunctions.plot_feature_importance_from_file import plot_feature_importance_from_file\n",
    "from _ModelFunctions.plot_model_predictions import plot_model_predictions"
   ]
  },
  {
   "cell_type": "code",
   "execution_count": null,
   "metadata": {},
   "outputs": [],
   "source": [
    "# lectura de la data\n",
    "project_2025=pd.read_csv('Input_output/Data/DataFrame.csv')\n",
    "\n",
    "# división de la data en entrenamiento y prueba\n",
    "x_train, x_test, y_train, y_test = divide_project_data(project_2025,\n",
    "                                                       target='Cantidad Real Gastada',\n",
    "                                                       test_size=0.2,\n",
    "                                                       random_state=42)"
   ]
  },
  {
   "cell_type": "markdown",
   "metadata": {},
   "source": [
    "#### LinearRegression"
   ]
  },
  {
   "cell_type": "code",
   "execution_count": null,
   "metadata": {},
   "outputs": [],
   "source": [
    "from sklearn.linear_model import LinearRegression\n",
    "from sklearn.feature_selection import f_regression\n",
    "\n",
    "#preproceamiento de la data\n",
    "pipeline_LR=create_pipeline(LinearRegression(), model_name='LinearRegression')\n",
    "\n",
    "# hiperparámetros para la búsqueda de cuadrícula\n",
    "param_grid_LR={\n",
    "    'feature_selection__k': [5, 10, 15, 17],\n",
    "    'feature_selection__score_func': [f_regression], \n",
    "    'regressor__fit_intercept': [True, False]\n",
    "}\n",
    "\n",
    "#búsqueda de cuadrícula para encontrar los mejores hiperparámetros\n",
    "model_LR=perform_grid_search_cv(pipeline_LR, \n",
    "                       param_grid_LR, \n",
    "                       cv=10, \n",
    "                       scoring='neg_mean_absolute_error')\n",
    "\n",
    "#ajustar el modelo con los mejores hiperparámetros\n",
    "model_LR.fit(x_train, y_train)\n",
    "print(\"Best score: \", model_LR.best_score_)\n",
    "print(\"Best parameters: \", model_LR.best_params_)\n",
    "\n",
    "#guardar el modelo entrenado\n",
    "create_model_directory(model_LR, model_name='LinearRegression.pkl.gz')\n",
    "\n",
    "#cargar el modelo guardado\n",
    "model_path_LR='files/models/LinearRegression.pkl.gz'\n",
    "\n",
    "#caculo de metricas del modelo\n",
    "metrics_calculate_from_file(model_path_LR, x_train, x_test, y_train, y_test,\n",
    "                            output_path='files/metrics/metrics1.json')\n",
    "\n",
    "#Grafico de ajuste del modelo\n",
    "plot_model_predictions(model_path_LR, x_test, y_test)\n"
   ]
  },
  {
   "cell_type": "markdown",
   "metadata": {},
   "source": [
    "#### Random Forest Regressor\n"
   ]
  },
  {
   "cell_type": "code",
   "execution_count": null,
   "metadata": {},
   "outputs": [],
   "source": [
    "from sklearn.ensemble import RandomForestRegressor\n",
    "\n",
    "#preproceamiento de la data\n",
    "pipeline_RF=create_pipeline(RandomForestRegressor(), model_name='RandomForestRegressor')\n",
    "\n",
    "# hiperparámetros para la búsqueda de cuadrícula\n",
    "param_grid_RF={\n",
    "    'regressor__n_estimators': [100, 200, 300],  \n",
    "    'regressor__max_depth': [10, 20, 30, None],  \n",
    "    'regressor__min_samples_split': [2, 5, 10],  \n",
    "    'regressor__min_samples_leaf': [1, 2, 4],  \n",
    "    'regressor__max_features': ['auto', 'sqrt', 'log2'],  \n",
    "    'regressor__bootstrap': [True, False]  \n",
    "}\n",
    "\n",
    "#búsqueda de cuadrícula para encontrar los mejores hiperparámetros\n",
    "model_RF=perform_grid_search_cv(pipeline_RF, \n",
    "                       param_grid_RF, \n",
    "                       cv=10, \n",
    "                       scoring='neg_mean_absolute_error')\n",
    "\n",
    "#ajustar el modelo con los mejores hiperparámetros\n",
    "model_RF.fit(x_train, y_train)\n",
    "print(\"Best score: \", model_RF.best_score_)\n",
    "print(\"Best parameters: \", model_RF.best_params_)\n",
    "\n",
    "#guardar el modelo entrenado\n",
    "create_model_directory(model_RF, model_name='RandomForestRegressor.pkl.gz')\n",
    "\n",
    "#cargar el modelo guardado\n",
    "model_path_RF='files/models/RandomForestRegressor.pkl.gz'\n",
    "\n",
    "#caculo de metricas del modelo\n",
    "metrics_calculate_from_file(model_path_RF, x_train, x_test, y_train, y_test,\n",
    "                            output_path='files/metrics/metrics2.json')\n",
    "\n",
    "# #Grafico de ajuste del modelo\n",
    "# plot_model_predictions(model_path_RF, x_test, y_test)"
   ]
  },
  {
   "cell_type": "markdown",
   "metadata": {},
   "source": [
    "#### Gradient Boosting Regressor\n"
   ]
  },
  {
   "cell_type": "code",
   "execution_count": null,
   "metadata": {},
   "outputs": [],
   "source": [
    "from sklearn.ensemble import GradientBoostingRegressor\n",
    "\n",
    "#preproceamiento de la data\n",
    "pipeline_GB=create_pipeline(GradientBoostingRegressor(), model_name='GradientBoostingRegressor')\n",
    "\n",
    "# hiperparámetros para la búsqueda de cuadrícula\n",
    "param_grid_GB={\n",
    "    'regressor__n_estimators': [100, 200, 300],  \n",
    "    'regressor__learning_rate': [0.01, 0.05, 0.1], \n",
    "    'regressor__max_depth': [3, 5, 7], \n",
    "    'regressor__min_samples_split': [2, 5, 10],  \n",
    "    'regressor__min_samples_leaf': [1, 2, 4],  \n",
    "    'regressor__subsample': [0.8, 1.0],  \n",
    "    'regressor__max_features': ['auto', 'sqrt', 'log2']  \n",
    "}\n",
    "\n",
    "\n",
    "#búsqueda de cuadrícula para encontrar los mejores hiperparámetros\n",
    "model_GB=perform_grid_search_cv(pipeline_GB, \n",
    "                       param_grid_GB, \n",
    "                       cv=6, \n",
    "                       scoring='neg_mean_absolute_error')\n",
    "\n",
    "#ajustar el modelo con los mejores hiperparámetros\n",
    "model_GB.fit(x_train, y_train)\n",
    "print(\"Best score: \", model_GB.best_score_)\n",
    "print(\"Best parameters: \", model_GB.best_params_)\n",
    "\n",
    "#guardar el modelo entrenado\n",
    "create_model_directory(model_GB, model_name='GradientBoostingRegressor.pkl.gz')\n",
    "\n",
    "#cargar el modelo guardado\n",
    "model_path_GB='files/models/GradientBoostingRegressor.pkl.gz'\n",
    "\n",
    "#caculo de metricas del modelo\n",
    "metrics_calculate_from_file(model_path_GB, x_train, x_test, y_train, y_test,\n",
    "                            output_path='files/metrics/metrics3.json')\n",
    "\n",
    "#Grafico de ajuste del modelo\n",
    "plot_model_predictions(model_path_GB, x_test, y_test)"
   ]
  },
  {
   "cell_type": "markdown",
   "metadata": {},
   "source": [
    "#### MLP Regressor\n"
   ]
  },
  {
   "cell_type": "code",
   "execution_count": null,
   "metadata": {},
   "outputs": [],
   "source": [
    "from sklearn.neural_network import MLPRegressor\n",
    "\n",
    "#preproceamiento de la data\n",
    "pipeline_MLP=create_pipeline(MLPRegressor(), model_name='MLPRegressor')\n",
    "\n",
    "# hiperparámetros para la búsqueda de cuadrícula\n",
    "param_grid_MLP={\n",
    "    'regressor__hidden_layer_sizes': [(100,), (50, 50)],\n",
    "    'regressor__activation': ['relu', 'tanh'],\n",
    "    'regressor__solver': ['adam', 'sgd'],\n",
    "    'regressor__alpha': [0.0001, 0.001, 0.01],\n",
    "    'regressor__learning_rate': ['constant', 'adaptive']\n",
    "}\n",
    "\n",
    "\n",
    "#búsqueda de cuadrícula para encontrar los mejores hiperparámetros\n",
    "model_MLP=perform_grid_search_cv(pipeline_MLP, \n",
    "                       param_grid_MLP, \n",
    "                       cv=6, \n",
    "                       scoring='neg_mean_absolute_error')\n",
    "\n",
    "#ajustar el modelo con los mejores hiperparámetros\n",
    "model_MLP.fit(x_train, y_train)\n",
    "print(\"Best score: \", model_MLP.best_score_)\n",
    "print(\"Best parameters: \", model_MLP.best_params_)\n",
    "\n",
    "#guardar el modelo entrenado\n",
    "create_model_directory(model_MLP, model_name='MLPRegressor.pkl.gz')\n",
    "\n",
    "#cargar el modelo guardado\n",
    "model_path_MLP='files/models/MLPRegressor.pkl.gz'\n",
    "\n",
    "#caculo de metricas del modelo\n",
    "metrics_calculate_from_file(model_path_MLP, x_train, x_test, y_train, y_test,\n",
    "                            output_path='files/metrics/metrics4.json')\n",
    "\n",
    "#Grafico de ajuste del modelo\n",
    "plot_model_predictions(model_path_MLP, x_test, y_test)"
   ]
  }
 ],
 "metadata": {
  "kernelspec": {
   "display_name": "Python 3",
   "language": "python",
   "name": "python3"
  },
  "language_info": {
   "codemirror_mode": {
    "name": "ipython",
    "version": 3
   },
   "file_extension": ".py",
   "mimetype": "text/x-python",
   "name": "python",
   "nbconvert_exporter": "python",
   "pygments_lexer": "ipython3",
   "version": "3.12.5"
  }
 },
 "nbformat": 4,
 "nbformat_minor": 2
}
